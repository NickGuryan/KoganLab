{
 "cells": [
  {
   "cell_type": "code",
   "execution_count": 28,
   "metadata": {
    "collapsed": true
   },
   "outputs": [],
   "source": [
    "from munkres import Munkres, print_matrix\n",
    "import sys\n",
    "import copy"
   ]
  },
  {
   "cell_type": "code",
   "execution_count": 21,
   "metadata": {
    "collapsed": true
   },
   "outputs": [],
   "source": [
    "def createVector(n):\n",
    "    v = []\n",
    "    for i in range(0,n):\n",
    "        v.append(int(input()))\n",
    "    return v\n",
    "\n",
    "def createMatrix(n):\n",
    "    A = []\n",
    "    for i in range(0,n):\n",
    "        A.append(createVector(n))\n",
    "    return A\n",
    "\n",
    "def showMatrix(matrix, n):\n",
    "    for i in range(n):\n",
    "        for j in range(n):\n",
    "            print(matrix[i][j], end=' ')\n",
    "        print('', end='\\n')"
   ]
  },
  {
   "cell_type": "code",
   "execution_count": 33,
   "metadata": {
    "collapsed": true
   },
   "outputs": [],
   "source": [
    "def maxminMatrix(matrix, n):\n",
    "    maxI = []\n",
    "    maxJ = []\n",
    "    \n",
    "    for i in range(n):\n",
    "        maxI.append(max(matrix[i]))\n",
    "        \n",
    "    tj = 0\n",
    "    while (tj<n):\n",
    "        columns=0\n",
    "        for i in range(n):\n",
    "            if(matrix[i][tj]>columns):\n",
    "                columns = matrix[i][tj]\n",
    "        maxJ.append(columns)\n",
    "        tj+=1\n",
    "        \n",
    "    print('max in rows:', maxI)\n",
    "    print('max in columns:',maxJ)\n",
    "    \n",
    "    solution = min(min(maxI),min(maxJ))\n",
    "    print('min(min(',maxI,'),min(',maxJ,'))=',solution, sep='')\n",
    "    return solution"
   ]
  },
  {
   "cell_type": "code",
   "execution_count": 63,
   "metadata": {
    "collapsed": false
   },
   "outputs": [],
   "source": [
    "def maxKhun(matrixA, matrixB, n, lim):\n",
    "    matrix = copy.deepcopy(matrixA)\n",
    "    matrixB = copy.deepcopy(matrixB)\n",
    "    for i in range(n):\n",
    "        for j in range(n):\n",
    "            if(matrixB[i][j]<lim):\n",
    "                matrix[i][j]=-1\n",
    "    \n",
    "    cost_matrix = []\n",
    "    for row in matrix:\n",
    "        cost_row = []\n",
    "        for col in row:\n",
    "            cost_row += [sys.maxsize - col]\n",
    "        cost_matrix += [cost_row]\n",
    "\n",
    "    m = Munkres()\n",
    "    indexes = m.compute(cost_matrix)\n",
    "    #print_matrix(matrix, msg='Highest profit through this matrix:')\n",
    "    total = 0\n",
    "    for row, column in indexes:\n",
    "        value = matrix[row][column]\n",
    "        total += value\n",
    "        #print ('(%d, %d) -> %d' % (row, column, value))\n",
    "    #showMatrix(matrix, n)\n",
    "    return total"
   ]
  },
  {
   "cell_type": "code",
   "execution_count": 53,
   "metadata": {
    "collapsed": true
   },
   "outputs": [],
   "source": [
    "def minElMatrix(matrix, n):\n",
    "    L = []\n",
    "    for i in range(n):\n",
    "        L.append(min(matrix[i]))\n",
    "    return min(L)"
   ]
  },
  {
   "cell_type": "code",
   "execution_count": 74,
   "metadata": {
    "collapsed": true
   },
   "outputs": [],
   "source": [
    "def showSolutions(A,B,n):\n",
    "    lim = maxminMatrix(B, n)\n",
    "    print('Effictive Solutions:{', end='')\n",
    "    lA = 0\n",
    "    for i in range(lim, minElMatrix(B,n),-1):\n",
    "        total = maxKhun(A,B,n,i)\n",
    "        if(total>lA):\n",
    "            lA = total\n",
    "            print('(%d, %d)' % (total, i), end=' ')\n",
    "    print('}')"
   ]
  },
  {
   "cell_type": "code",
   "execution_count": 24,
   "metadata": {
    "collapsed": false
   },
   "outputs": [
    {
     "name": "stdout",
     "output_type": "stream",
     "text": [
      "5\n",
      "8\n",
      "4\n",
      "2\n",
      "6\n",
      "9\n",
      "4\n",
      "6\n",
      "5\n",
      "3\n",
      "8\n",
      "3\n",
      "3\n",
      "5\n",
      "7\n",
      "9\n"
     ]
    }
   ],
   "source": [
    "n = 4\n",
    "A = createMatrix(n)"
   ]
  },
  {
   "cell_type": "code",
   "execution_count": 30,
   "metadata": {
    "collapsed": false
   },
   "outputs": [
    {
     "name": "stdout",
     "output_type": "stream",
     "text": [
      "5 8 4 2 \n",
      "6 9 4 6 \n",
      "5 3 8 3 \n",
      "3 5 7 9 \n"
     ]
    }
   ],
   "source": [
    "showMatrix(A,n)"
   ]
  },
  {
   "cell_type": "code",
   "execution_count": 35,
   "metadata": {
    "collapsed": false
   },
   "outputs": [
    {
     "name": "stdout",
     "output_type": "stream",
     "text": [
      "9\n",
      "4\n",
      "7\n",
      "8\n",
      "2\n",
      "1\n",
      "9\n",
      "7\n",
      "7\n",
      "8\n",
      "8\n",
      "4\n",
      "9\n",
      "7\n",
      "4\n",
      "9\n"
     ]
    }
   ],
   "source": [
    "B = createMatrix(n)"
   ]
  },
  {
   "cell_type": "code",
   "execution_count": 72,
   "metadata": {
    "collapsed": false
   },
   "outputs": [
    {
     "name": "stdout",
     "output_type": "stream",
     "text": [
      "9 4 7 8 \n",
      "2 1 9 7 \n",
      "7 8 8 4 \n",
      "9 7 4 9 \n"
     ]
    }
   ],
   "source": [
    "showMatrix(B,n)"
   ]
  },
  {
   "cell_type": "code",
   "execution_count": 75,
   "metadata": {
    "collapsed": false
   },
   "outputs": [
    {
     "name": "stdout",
     "output_type": "stream",
     "text": [
      "max in rows: [9, 9, 8, 9]\n",
      "max in columns: [9, 8, 9, 9]\n",
      "min(min([9, 9, 8, 9]),min([9, 8, 9, 9]))=8\n",
      "Effictive Solutions:{(21, 8) (24, 7) (26, 4) (31, 2) }\n"
     ]
    }
   ],
   "source": [
    "showSolutions(A,B,n)"
   ]
  },
  {
   "cell_type": "code",
   "execution_count": null,
   "metadata": {
    "collapsed": true
   },
   "outputs": [],
   "source": []
  }
 ],
 "metadata": {
  "anaconda-cloud": {},
  "kernelspec": {
   "display_name": "Python [conda root]",
   "language": "python",
   "name": "conda-root-py"
  },
  "language_info": {
   "codemirror_mode": {
    "name": "ipython",
    "version": 3
   },
   "file_extension": ".py",
   "mimetype": "text/x-python",
   "name": "python",
   "nbconvert_exporter": "python",
   "pygments_lexer": "ipython3",
   "version": "3.5.2"
  }
 },
 "nbformat": 4,
 "nbformat_minor": 1
}
